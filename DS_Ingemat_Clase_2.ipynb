{
  "nbformat": 4,
  "nbformat_minor": 0,
  "metadata": {
    "colab": {
      "provenance": [],
      "include_colab_link": true
    },
    "kernelspec": {
      "name": "python3",
      "display_name": "Python 3"
    },
    "language_info": {
      "name": "python"
    }
  },
  "cells": [
    {
      "cell_type": "markdown",
      "metadata": {
        "id": "view-in-github",
        "colab_type": "text"
      },
      "source": [
        "<a href=\"https://colab.research.google.com/github/almendruki/data_science/blob/almendra/DS_Ingemat_Clase_2.ipynb\" target=\"_parent\"><img src=\"https://colab.research.google.com/assets/colab-badge.svg\" alt=\"Open In Colab\"/></a>"
      ]
    },
    {
      "cell_type": "markdown",
      "source": [
        "# Clase 2: Python Básico y Librerías para Data Science\n",
        "Este notebook contiene ejemplos de Python básico, así como una introducción a NumPy y Pandas. Te servirá para reforzar los fundamentos de programación y familiarizarte con las herramientas clave para el análisis de datos.\n",
        "\n",
        "## 1. Python Básico\n",
        "### 1.1 Sintaxis y Tipos de Datos\n",
        "En esta sección veremos cómo crear variables en Python, cuáles son los tipos de datos básicos y cómo imprimir resultados en pantalla."
      ],
      "metadata": {
        "id": "TBZtxMzShixK"
      }
    },
    {
      "cell_type": "code",
      "execution_count": null,
      "metadata": {
        "colab": {
          "base_uri": "https://localhost:8080/"
        },
        "id": "8N_2riEThLll",
        "outputId": "6d8e3314-89ff-4d17-fb45-0655a2726b14"
      },
      "outputs": [
        {
          "output_type": "stream",
          "name": "stdout",
          "text": [
            "Entero: 10\n",
            "Flotante: 3.14\n",
            "Cadena: Hola, Data Science!\n",
            "Booleano: True\n",
            "El tipo de 'entero' es: <class 'int'>\n",
            "El tipo de 'cadena' es: <class 'str'>\n"
          ]
        }
      ],
      "source": [
        "# Asignación de variables de distintos tipos\n",
        "entero = 10\n",
        "flotante = 3.14\n",
        "cadena = \"Hola, Data Science!\"\n",
        "booleano = True\n",
        "\n",
        "# Imprimimos cada variable\n",
        "print(\"Entero:\", entero)\n",
        "print(\"Flotante:\", flotante)\n",
        "print(\"Cadena:\", cadena)\n",
        "print(\"Booleano:\", booleano)\n",
        "\n",
        "# Podemos usar la función type() para ver el tipo de dato\n",
        "print(\"El tipo de 'entero' es:\", type(entero))\n",
        "print(\"El tipo de 'cadena' es:\", type(cadena))"
      ]
    },
    {
      "cell_type": "markdown",
      "source": [
        "`int`, `float`, `str` y `bool` son los tipos de datos más comunes en Python.\n",
        "\n",
        "Podemos usar `print()` para mostrar en pantalla y `type()` para conocer el tipo de una variable.\n",
        "\n",
        "No es necesario declarar el tipo de dato al inicio; Python lo infiere automáticamente."
      ],
      "metadata": {
        "id": "_-9LTlGAjUc2"
      }
    },
    {
      "cell_type": "markdown",
      "source": [
        "### 1.2 Estructuras de Datos\n",
        "Python ofrece diferentes estructuras de datos básicas: listas, tuplas y diccionarios. Cada una tiene usos específicos. Las listas son mutables, mientras que las tuplas no. Los diccionarios almacenan pares clave-valor."
      ],
      "metadata": {
        "id": "mWn3aClejg7i"
      }
    },
    {
      "cell_type": "code",
      "source": [
        "# LISTAS (mutables)\n",
        "numeros = [1, 2, 3, 4, 5]\n",
        "print(\"Lista original:\", numeros)\n",
        "\n",
        "numeros.append(6)  # Agrega un elemento al final\n",
        "print(\"Lista con append:\", numeros)\n",
        "\n",
        "numeros[0] = 10    # Modificamos el primer elemento\n",
        "print(\"Lista modificada:\", numeros)\n",
        "\n",
        "# TUPLAS (inmutables)\n",
        "punto = (3, 4)\n",
        "print(\"\\nTupla:\", punto)\n",
        "# punto[0] = 5  # Esto daría un error, no se pueden modificar las tuplas\n",
        "\n",
        "# DICCIONARIOS (pares clave-valor)\n",
        "estudiante = {\n",
        "    \"nombre\": \"María\",\n",
        "    \"edad\": 21,\n",
        "    \"carrera\": \"Ingeniería Matemática\"\n",
        "}\n",
        "print(\"\\nDiccionario estudiante:\", estudiante)\n",
        "print(\"Nombre:\", estudiante[\"nombre\"])\n",
        "\n",
        "# Agregamos una nueva clave\n",
        "estudiante[\"promedio\"] = 5.4\n",
        "print(\"Diccionario con nueva clave:\", estudiante)"
      ],
      "metadata": {
        "colab": {
          "base_uri": "https://localhost:8080/"
        },
        "id": "nJLuznFUjgQ0",
        "outputId": "4a18d7ee-4d5c-46a2-a7e3-024d7cc90c56"
      },
      "execution_count": null,
      "outputs": [
        {
          "output_type": "stream",
          "name": "stdout",
          "text": [
            "Lista original: [1, 2, 3, 4, 5]\n",
            "Lista con append: [1, 2, 3, 4, 5, 6]\n",
            "Lista modificada: [10, 2, 3, 4, 5, 6]\n",
            "\n",
            "Tupla: (3, 4)\n",
            "\n",
            "Diccionario estudiante: {'nombre': 'María', 'edad': 21, 'carrera': 'Ingeniería Matemática'}\n",
            "Nombre: María\n",
            "Diccionario con nueva clave: {'nombre': 'María', 'edad': 21, 'carrera': 'Ingeniería Matemática', 'promedio': 5.4}\n"
          ]
        }
      ]
    },
    {
      "cell_type": "markdown",
      "source": [
        "*   **Listas**: Son ideales cuando necesitas una secuencia de elementos que puedes modificar.\n",
        "*   **Tuplas**: Ayudan a fijar datos que no quieres cambiar (coordenadas, por ejemplo).\n",
        "*   **Diccionarios**: Muy útiles para almacenar información con etiquetas (claves), de modo que puedas acceder a ellas fácilmente.\n",
        "\n",
        "\n",
        "\n",
        "\n"
      ],
      "metadata": {
        "id": "exBD7EDFj4xb"
      }
    },
    {
      "cell_type": "markdown",
      "source": [
        "### 1.3 Control de Flujo y Funciones\n",
        "Podemos tomar decisiones con if-else o iterar sobre colecciones de datos con for y while. Además, las funciones nos ayudan a estructurar mejor el código."
      ],
      "metadata": {
        "id": "CnDg7aezkUBD"
      }
    },
    {
      "cell_type": "code",
      "source": [
        "x = 10\n",
        "if x > 0:\n",
        "    print(\"x es positivo\")\n",
        "else:\n",
        "    print(\"x es cero o negativo\")\n",
        "\n",
        "animales = [\"gato\", \"perro\", \"conejo\"]\n",
        "for animal in animales:\n",
        "    print(\"El animal es:\", animal)\n",
        "\n",
        "contador = 3\n",
        "while contador > 0:\n",
        "    print(\"Contador:\", contador)\n",
        "    contador -= 1\n",
        "\n",
        "def suma(a, b):\n",
        "    \"\"\"Función que retorna la suma de a y b.\"\"\"\n",
        "    return a + b\n",
        "\n",
        "resultado = suma(5, 7)\n",
        "print(\"La suma de 5 y 7 es:\", resultado)\n"
      ],
      "metadata": {
        "colab": {
          "base_uri": "https://localhost:8080/"
        },
        "id": "IyiAqRlykYUV",
        "outputId": "c13e8712-4b5a-4065-ef14-eb4763fb6403"
      },
      "execution_count": null,
      "outputs": [
        {
          "output_type": "stream",
          "name": "stdout",
          "text": [
            "x es positivo\n",
            "El animal es: gato\n",
            "El animal es: perro\n",
            "El animal es: conejo\n",
            "Contador: 3\n",
            "Contador: 2\n",
            "Contador: 1\n",
            "La suma de 5 y 7 es: 12\n"
          ]
        }
      ]
    },
    {
      "cell_type": "markdown",
      "source": [
        "*   `if-else`: Evalúa condiciones.\n",
        "\n",
        "*   `for`: Recorre elementos de una lista o tupla de forma ordenada.\n",
        "\n",
        "*   `while`: Se repite hasta que la condición deje de cumplirse.\n",
        "\n",
        "*   `def`: Palabra reservada para definir funciones. Se pueden usar para organizar código y reutilizar lógica.\n",
        "\n"
      ],
      "metadata": {
        "id": "1CPy3tlBkppM"
      }
    },
    {
      "cell_type": "markdown",
      "source": [
        "## 2. Introducción a NumPy\n",
        "NumPy (Numerical Python) es la librería fundamental para computación científica con Python. Maneja arrays multidimensionales y realiza operaciones vectorizadas de manera eficiente.\n",
        "\n",
        "[Enlace a librería](https://numpy.org/)"
      ],
      "metadata": {
        "id": "4D_GrunWk0qT"
      }
    },
    {
      "cell_type": "code",
      "source": [
        "import numpy as np\n",
        "\n",
        "# Creación de arrays\n",
        "lista = [1, 2, 3, 4, 5]\n",
        "arr = np.array(lista)\n",
        "print(\"Array de NumPy:\", arr)\n",
        "\n",
        "# Operaciones vectorizadas\n",
        "print(\"Suma de 2 a cada elemento:\", arr + 2)\n",
        "print(\"Producto de elementos por 3:\", arr * 3)\n",
        "\n",
        "# Array aleatorio 3x2\n",
        "arr_random = np.random.rand(3, 2)\n",
        "print(\"\\nArray aleatorio de 3x2:\\n\", arr_random)\n",
        "\n",
        "# Estadísticas básicas\n",
        "print(\"Promedio:\", np.mean(arr))\n",
        "print(\"Desviación estándar:\", np.std(arr))"
      ],
      "metadata": {
        "colab": {
          "base_uri": "https://localhost:8080/"
        },
        "id": "lWrEhVzNlToD",
        "outputId": "92b571af-d61b-4c5a-9d04-6c8790f81c81"
      },
      "execution_count": null,
      "outputs": [
        {
          "output_type": "stream",
          "name": "stdout",
          "text": [
            "Array de NumPy: [1 2 3 4 5]\n",
            "Suma de 2 a cada elemento: [3 4 5 6 7]\n",
            "Producto de elementos por 3: [ 3  6  9 12 15]\n",
            "\n",
            "Array aleatorio de 3x2:\n",
            " [[0.34783154 0.60994832]\n",
            " [0.43258785 0.72207524]\n",
            " [0.23063098 0.49844609]]\n",
            "Promedio: 3.0\n",
            "Desviación estándar: 1.4142135623730951\n"
          ]
        }
      ]
    },
    {
      "cell_type": "markdown",
      "source": [
        "* NumPy es muy rápido y base de otras librerías como Pandas.\n",
        "\n",
        "* La mayoría de operaciones se ejecutan de manera vectorizada, lo que evita ciclos for en muchos casos.\n",
        "\n",
        "* `np.random.rand() `genera valores aleatorios entre 0 y 1."
      ],
      "metadata": {
        "id": "Wt6XClkTlX-w"
      }
    },
    {
      "cell_type": "markdown",
      "source": [
        "### 3. Introducción a Pandas\n",
        "Pandas nos proporciona DataFrames, que son como tablas similares a las de Excel o bases de datos. Es crucial para limpieza, análisis y transformación de datos.\n",
        "\n",
        "[Link a librería](https://pandas.pydata.org/docs/reference/index.html)"
      ],
      "metadata": {
        "id": "NohRf7f7oww7"
      }
    },
    {
      "cell_type": "code",
      "source": [
        "import pandas as pd\n",
        "\n",
        "# Crear un DataFrame desde un diccionario\n",
        "data = {\n",
        "    \"Nombre\": [\"Ana\", \"Bernardo\", \"Claudia\"],\n",
        "    \"Edad\": [24, 30, 22],\n",
        "    \"Ciudad\": [\"Bogotá\", \"México DF\", \"Lima\"]\n",
        "}\n",
        "\n",
        "df = pd.DataFrame(data)\n",
        "print(\"DataFrame:\\n\", df)\n",
        "\n",
        "# Información y primeras filas\n",
        "print(\"\\nInformación del DataFrame:\")\n",
        "print(df.info())\n",
        "\n",
        "print(\"\\nPrimeras filas del DataFrame:\")\n",
        "print(df.head())\n",
        "\n",
        "# Describir datos numéricos\n",
        "print(\"\\nDescripción estadística:\")\n",
        "print(df.describe())\n"
      ],
      "metadata": {
        "colab": {
          "base_uri": "https://localhost:8080/"
        },
        "id": "5yFYm9oflgJD",
        "outputId": "62d2c6b9-dcb8-4990-d3b1-f180105f986c"
      },
      "execution_count": null,
      "outputs": [
        {
          "output_type": "stream",
          "name": "stdout",
          "text": [
            "DataFrame:\n",
            "      Nombre  Edad     Ciudad\n",
            "0       Ana    24     Bogotá\n",
            "1  Bernardo    30  México DF\n",
            "2   Claudia    22       Lima\n",
            "\n",
            "Información del DataFrame:\n",
            "<class 'pandas.core.frame.DataFrame'>\n",
            "RangeIndex: 3 entries, 0 to 2\n",
            "Data columns (total 3 columns):\n",
            " #   Column  Non-Null Count  Dtype \n",
            "---  ------  --------------  ----- \n",
            " 0   Nombre  3 non-null      object\n",
            " 1   Edad    3 non-null      int64 \n",
            " 2   Ciudad  3 non-null      object\n",
            "dtypes: int64(1), object(2)\n",
            "memory usage: 204.0+ bytes\n",
            "None\n",
            "\n",
            "Primeras filas del DataFrame:\n",
            "     Nombre  Edad     Ciudad\n",
            "0       Ana    24     Bogotá\n",
            "1  Bernardo    30  México DF\n",
            "2   Claudia    22       Lima\n",
            "\n",
            "Descripción estadística:\n",
            "            Edad\n",
            "count   3.000000\n",
            "mean   25.333333\n",
            "std     4.163332\n",
            "min    22.000000\n",
            "25%    23.000000\n",
            "50%    24.000000\n",
            "75%    27.000000\n",
            "max    30.000000\n"
          ]
        }
      ]
    },
    {
      "cell_type": "code",
      "source": [],
      "metadata": {
        "id": "APz5YX6Fz9p0"
      },
      "execution_count": null,
      "outputs": []
    },
    {
      "cell_type": "markdown",
      "source": [
        "* Un DataFrame es como una hoja de cálculo: cada columna puede ser de un tipo distinto.\n",
        "\n",
        "* `df.info()` muestra las columnas, el tipo de cada una y si hay valores nulos.\n",
        "\n",
        "* `df.describe()` da estadísticas descriptivas de las columnas numéricas (`min`, `max`, `media`, etc.).\n",
        "\n"
      ],
      "metadata": {
        "id": "7fSO9H3vqGiU"
      }
    },
    {
      "cell_type": "markdown",
      "source": [
        "### 4. Visualización Rápida\n",
        "Para generar gráficas sencillas podemos usar matplotlib (la librería de visualización más básica de Python).\n",
        "\n",
        "[Link a librería](https://matplotlib.org/stable/users/explain/quick_start.html)"
      ],
      "metadata": {
        "id": "cCC2fy0yqYvq"
      }
    },
    {
      "cell_type": "code",
      "source": [
        "import matplotlib.pyplot as plt\n",
        "\n",
        "numeros = [2, 4, 5, 7, 8, 10]\n",
        "plt.plot(numeros)\n",
        "plt.title(\"Ejemplo de Gráfica Sencilla\")\n",
        "plt.xlabel(\"Índice\")\n",
        "plt.ylabel(\"Valor\")\n",
        "plt.show()\n"
      ],
      "metadata": {
        "colab": {
          "base_uri": "https://localhost:8080/",
          "height": 472
        },
        "id": "3xX_EkIGqRox",
        "outputId": "252ea7a4-d380-4020-92ad-10a43ee3be6e"
      },
      "execution_count": null,
      "outputs": [
        {
          "output_type": "display_data",
          "data": {
            "text/plain": [
              "<Figure size 640x480 with 1 Axes>"
            ],
            "image/png": "[encoded data removed]"
          },
          "metadata": {}
        }
      ]
    },
    {
      "cell_type": "markdown",
      "source": [
        "* `matplotlib.pyplot` nos permite crear gráficas de líneas, barras, histogramas y más.\n",
        "\n",
        "Verás que, para análisis más avanzados, hay librerías como plotly, bokeh o altair con capacidades interactivas."
      ],
      "metadata": {
        "id": "zYf4gnqjrGNT"
      }
    },
    {
      "cell_type": "code",
      "source": [
        "import pandas as pd\n",
        "df = pd.read_csv(\"best_sellers_data2.csv\")\n",
        "print(df.head())\n"
      ],
      "metadata": {
        "id": "ZMVIMeRAz_IA",
        "outputId": "7efea0b4-75d6-4924-877e-2869212b2077",
        "colab": {
          "base_uri": "https://localhost:8080/"
        }
      },
      "execution_count": 6,
      "outputs": [
        {
          "output_type": "stream",
          "name": "stdout",
          "text": [
            "                                       product_title product_price  \\\n",
            "0  TurboTax Deluxe 2024 Tax Software, Federal & S...        $55.99   \n",
            "1  TurboTax Premier 2024 Tax Software, Federal & ...        $82.99   \n",
            "2  TurboTax Home & Business 2024 Tax Software, Fe...        $95.99   \n",
            "3  TurboTax Business 2024 Tax Software, Federal T...       $143.99   \n",
            "4  H&R Block Tax Software Deluxe + State 2024 wit...        $49.97   \n",
            "\n",
            "   product_star_rating  product_num_ratings  rank country  \n",
            "0                  4.2               6511.0     1      US  \n",
            "1                  4.1               2738.0     2      US  \n",
            "2                  4.2               1672.0     3      US  \n",
            "3                  4.0                389.0     4      US  \n",
            "4                  3.9               1683.0     5      US  \n"
          ]
        }
      ]
    },
    {
      "cell_type": "code",
      "source": [
        "!pip install kagglehub[pandas-datasets]"
      ],
      "metadata": {
        "id": "p6ZW231s0d-2",
        "outputId": "2d74baf0-eb09-49ce-f57c-0b4b9cff309d",
        "colab": {
          "base_uri": "https://localhost:8080/"
        }
      },
      "execution_count": 3,
      "outputs": [
        {
          "output_type": "stream",
          "name": "stdout",
          "text": [
            "Requirement already satisfied: kagglehub[pandas-datasets] in /usr/local/lib/python3.11/dist-packages (0.3.10)\n",
            "Requirement already satisfied: packaging in /usr/local/lib/python3.11/dist-packages (from kagglehub[pandas-datasets]) (24.2)\n",
            "Requirement already satisfied: pyyaml in /usr/local/lib/python3.11/dist-packages (from kagglehub[pandas-datasets]) (6.0.2)\n",
            "Requirement already satisfied: requests in /usr/local/lib/python3.11/dist-packages (from kagglehub[pandas-datasets]) (2.32.3)\n",
            "Requirement already satisfied: tqdm in /usr/local/lib/python3.11/dist-packages (from kagglehub[pandas-datasets]) (4.67.1)\n",
            "Requirement already satisfied: pandas in /usr/local/lib/python3.11/dist-packages (from kagglehub[pandas-datasets]) (2.2.2)\n",
            "Requirement already satisfied: numpy>=1.23.2 in /usr/local/lib/python3.11/dist-packages (from pandas->kagglehub[pandas-datasets]) (2.0.2)\n",
            "Requirement already satisfied: python-dateutil>=2.8.2 in /usr/local/lib/python3.11/dist-packages (from pandas->kagglehub[pandas-datasets]) (2.8.2)\n",
            "Requirement already satisfied: pytz>=2020.1 in /usr/local/lib/python3.11/dist-packages (from pandas->kagglehub[pandas-datasets]) (2025.2)\n",
            "Requirement already satisfied: tzdata>=2022.7 in /usr/local/lib/python3.11/dist-packages (from pandas->kagglehub[pandas-datasets]) (2025.2)\n",
            "Requirement already satisfied: charset-normalizer<4,>=2 in /usr/local/lib/python3.11/dist-packages (from requests->kagglehub[pandas-datasets]) (3.4.1)\n",
            "Requirement already satisfied: idna<4,>=2.5 in /usr/local/lib/python3.11/dist-packages (from requests->kagglehub[pandas-datasets]) (3.10)\n",
            "Requirement already satisfied: urllib3<3,>=1.21.1 in /usr/local/lib/python3.11/dist-packages (from requests->kagglehub[pandas-datasets]) (2.3.0)\n",
            "Requirement already satisfied: certifi>=2017.4.17 in /usr/local/lib/python3.11/dist-packages (from requests->kagglehub[pandas-datasets]) (2025.1.31)\n",
            "Requirement already satisfied: six>=1.5 in /usr/local/lib/python3.11/dist-packages (from python-dateutil>=2.8.2->pandas->kagglehub[pandas-datasets]) (1.17.0)\n"
          ]
        }
      ]
    }
  ]
}