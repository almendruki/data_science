{
  "nbformat": 4,
  "nbformat_minor": 0,
  "metadata": {
    "colab": {
      "provenance": [],
      "authorship_tag": "ABX9TyOwnznUzRCiVNGIukVd0GdE",
      "include_colab_link": true
    },
    "kernelspec": {
      "name": "python3",
      "display_name": "Python 3"
    },
    "language_info": {
      "name": "python"
    }
  },
  "cells": [
    {
      "cell_type": "markdown",
      "metadata": {
        "id": "view-in-github",
        "colab_type": "text"
      },
      "source": [
        "<a href=\"https://colab.research.google.com/github/almendruki/data_science/blob/trabajos/avance_taller1.ipynb\" target=\"_parent\"><img src=\"https://colab.research.google.com/assets/colab-badge.svg\" alt=\"Open In Colab\"/></a>"
      ]
    },
    {
      "cell_type": "code",
      "execution_count": 14,
      "metadata": {
        "colab": {
          "base_uri": "https://localhost:8080/"
        },
        "id": "wgk-sdg4hFeP",
        "outputId": "332be5f7-0897-46b8-e79f-01b97b70df4b"
      },
      "outputs": [
        {
          "output_type": "stream",
          "name": "stdout",
          "text": [
            "\n",
            "Primeras 5 filas del DataFrame:\n",
            "   PassengerId  Survived  Pclass  \\\n",
            "0            1         0       3   \n",
            "1            2         1       1   \n",
            "2            3         1       3   \n",
            "3            4         1       1   \n",
            "4            5         0       3   \n",
            "\n",
            "                                                Name     Sex   Age  SibSp  \\\n",
            "0                            Braund, Mr. Owen Harris    male  22.0      1   \n",
            "1  Cumings, Mrs. John Bradley (Florence Briggs Th...  female  38.0      1   \n",
            "2                             Heikkinen, Miss. Laina  female  26.0      0   \n",
            "3       Futrelle, Mrs. Jacques Heath (Lily May Peel)  female  35.0      1   \n",
            "4                           Allen, Mr. William Henry    male  35.0      0   \n",
            "\n",
            "   Parch            Ticket     Fare Cabin Embarked  \n",
            "0      0         A/5 21171   7.2500   NaN        S  \n",
            "1      0          PC 17599  71.2833   C85        C  \n",
            "2      0  STON/O2. 3101282   7.9250   NaN        S  \n",
            "3      0            113803  53.1000  C123        S  \n",
            "4      0            373450   8.0500   NaN        S  \n",
            "\n",
            "Información del DataFrame:\n",
            "<class 'pandas.core.frame.DataFrame'>\n",
            "RangeIndex: 891 entries, 0 to 890\n",
            "Data columns (total 12 columns):\n",
            " #   Column       Non-Null Count  Dtype  \n",
            "---  ------       --------------  -----  \n",
            " 0   PassengerId  891 non-null    int64  \n",
            " 1   Survived     891 non-null    int64  \n",
            " 2   Pclass       891 non-null    int64  \n",
            " 3   Name         891 non-null    object \n",
            " 4   Sex          891 non-null    object \n",
            " 5   Age          714 non-null    float64\n",
            " 6   SibSp        891 non-null    int64  \n",
            " 7   Parch        891 non-null    int64  \n",
            " 8   Ticket       891 non-null    object \n",
            " 9   Fare         891 non-null    float64\n",
            " 10  Cabin        204 non-null    object \n",
            " 11  Embarked     889 non-null    object \n",
            "dtypes: float64(2), int64(5), object(5)\n",
            "memory usage: 83.7+ KB\n",
            "None\n",
            "\n",
            "Descripción estadística:\n",
            "       PassengerId    Survived      Pclass         Age       SibSp  \\\n",
            "count   891.000000  891.000000  891.000000  714.000000  891.000000   \n",
            "mean    446.000000    0.383838    2.308642   29.699118    0.523008   \n",
            "std     257.353842    0.486592    0.836071   14.526497    1.102743   \n",
            "min       1.000000    0.000000    1.000000    0.420000    0.000000   \n",
            "25%     223.500000    0.000000    2.000000   20.125000    0.000000   \n",
            "50%     446.000000    0.000000    3.000000   28.000000    0.000000   \n",
            "75%     668.500000    1.000000    3.000000   38.000000    1.000000   \n",
            "max     891.000000    1.000000    3.000000   80.000000    8.000000   \n",
            "\n",
            "            Parch        Fare  \n",
            "count  891.000000  891.000000  \n",
            "mean     0.381594   32.204208  \n",
            "std      0.806057   49.693429  \n",
            "min      0.000000    0.000000  \n",
            "25%      0.000000    7.910400  \n",
            "50%      0.000000   14.454200  \n",
            "75%      0.000000   31.000000  \n",
            "max      6.000000  512.329200  \n",
            "\n",
            "Nombre de las columnas:\n",
            " Index(['PassengerId', 'Survived', 'Pclass', 'Name', 'Sex', 'Age', 'SibSp',\n",
            "       'Parch', 'Ticket', 'Fare', 'Cabin', 'Embarked'],\n",
            "      dtype='object')\n",
            "\n",
            "Tipos\n",
            " PassengerId      int64\n",
            "Survived         int64\n",
            "Pclass           int64\n",
            "Name            object\n",
            "Sex             object\n",
            "Age            float64\n",
            "SibSp            int64\n",
            "Parch            int64\n",
            "Ticket          object\n",
            "Fare           float64\n",
            "Cabin           object\n",
            "Embarked        object\n",
            "dtype: object\n"
          ]
        }
      ],
      "source": [
        "#############SECCIÓN 1##############\n",
        "\n",
        "#Ejercicio 1\n",
        "\n",
        "\n",
        "import pandas as pd\n",
        "df = pd.read_csv(\"Titanic-Dataset.csv\")\n",
        "print(\"\\nPrimeras 5 filas del DataFrame:\")\n",
        "print(df.head())#muestra las primeras 5 filas\n",
        "\n",
        "print(\"\\nInformación del DataFrame:\")\n",
        "print(df.info())\n",
        "\n",
        "print(\"\\nDescripción estadística:\")\n",
        "print(df.describe())\n",
        "\n",
        "#Ejercicio 2\n",
        "\n",
        "columnas =  df.columns\n",
        "print(\"\\nNombre de las columnas:\\n\", columnas)\n",
        "\n",
        "tipos = df.dtypes\n",
        "print(\"\\nTipos\\n\", tipos)\n",
        "\n",
        "#no sé a qué se refiere con comenta, pero xd seguimosss\n"
      ]
    },
    {
      "cell_type": "code",
      "source": [
        "#############SECCIÓN 2##############\n",
        "\n",
        "#Ejercicio 3:\n",
        "print(\"\\nMedia de las columnas numéricas:\")\n",
        "print(df.mean(numeric_only=True))\n",
        "\n",
        "print(\"\\nMediana de las columnas numéricas:\")\n",
        "print(df.median(numeric_only=True))\n",
        "\n",
        "print(\"\\nDesviación estándar de las columnas numéricas:\")\n",
        "print(df.std(numeric_only=True))\n",
        "\n",
        "\n",
        "print(\"\\nConteo de valores únicos en las columnas categóricas: \")\n",
        "print(df.nunique())\n"
      ],
      "metadata": {
        "colab": {
          "base_uri": "https://localhost:8080/"
        },
        "id": "W2csYd_PiLkY",
        "outputId": "88b51938-c8bc-4a42-c501-ca59e60bf5cf"
      },
      "execution_count": 38,
      "outputs": [
        {
          "output_type": "stream",
          "name": "stdout",
          "text": [
            "\n",
            "Media de las columnas numéricas:\n",
            "PassengerId    446.000000\n",
            "Survived         0.383838\n",
            "Pclass           2.308642\n",
            "Age             29.699118\n",
            "SibSp            0.523008\n",
            "Parch            0.381594\n",
            "Fare            32.204208\n",
            "dtype: float64\n",
            "\n",
            "Mediana de las columnas numéricas:\n",
            "PassengerId    446.0000\n",
            "Survived         0.0000\n",
            "Pclass           3.0000\n",
            "Age             28.0000\n",
            "SibSp            0.0000\n",
            "Parch            0.0000\n",
            "Fare            14.4542\n",
            "dtype: float64\n",
            "\n",
            "Desviación estándar de las columnas numéricas:\n",
            "PassengerId    257.353842\n",
            "Survived         0.486592\n",
            "Pclass           0.836071\n",
            "Age             14.526497\n",
            "SibSp            1.102743\n",
            "Parch            0.806057\n",
            "Fare            49.693429\n",
            "dtype: float64\n",
            "\n",
            "Conteo de valores únicos en las columnas categóricas: \n",
            "PassengerId    891\n",
            "Survived         2\n",
            "Pclass           3\n",
            "Name           891\n",
            "Sex              2\n",
            "Age             88\n",
            "SibSp            7\n",
            "Parch            7\n",
            "Ticket         681\n",
            "Fare           248\n",
            "Cabin          147\n",
            "Embarked         3\n",
            "dtype: int64\n"
          ]
        }
      ]
    },
    {
      "cell_type": "code",
      "source": [
        "#Ejercicio 4\n",
        "nulos = df.isnull().sum()\n",
        "print(\"\\nCantidad de valores nulos en cada columna:\")\n",
        "print(nulos)\n",
        "\n",
        "print(\"\\nLa columna con más valores nulos es:\", nulos.idxmax())\n"
      ],
      "metadata": {
        "colab": {
          "base_uri": "https://localhost:8080/"
        },
        "id": "51ef6XsWsZJ_",
        "outputId": "daacce8a-7faf-4664-dbb2-416aa7b8eb6e"
      },
      "execution_count": 41,
      "outputs": [
        {
          "output_type": "stream",
          "name": "stdout",
          "text": [
            "\n",
            "Cantidad de valores nulos en cada columna:\n",
            "PassengerId      0\n",
            "Survived         0\n",
            "Pclass           0\n",
            "Name             0\n",
            "Sex              0\n",
            "Age            177\n",
            "SibSp            0\n",
            "Parch            0\n",
            "Ticket           0\n",
            "Fare             0\n",
            "Cabin          687\n",
            "Embarked         2\n",
            "dtype: int64\n",
            "\n",
            "La columna con más valores nulos es: Cabin\n"
          ]
        }
      ]
    }
  ]
}